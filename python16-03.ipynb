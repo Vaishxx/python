{
 "cells": [
  {
   "cell_type": "code",
   "execution_count": 2,
   "metadata": {},
   "outputs": [
    {
     "name": "stdout",
     "output_type": "stream",
     "text": [
      "<__main__.Mobile object at 0x000001E691065D50> <__main__.Mobile object at 0x000001E690FF9FD0>\n",
      "iphone,16 gb\n",
      "iphone,16 gb\n"
     ]
    }
   ],
   "source": [
    "# use of self\n",
    "class Mobile:\n",
    "    def config(self):\n",
    "        print(\"iphone,16 gb\")\n",
    "\n",
    "mob1=Mobile()\n",
    "mob2=Mobile()\n",
    "print(mob1,mob2)\n",
    "\n",
    "Mobile.config(mob2)\n",
    "mob1.config()\n",
    "\n"
   ]
  },
  {
   "cell_type": "code",
   "execution_count": 6,
   "metadata": {},
   "outputs": [
    {
     "name": "stdout",
     "output_type": "stream",
     "text": [
      "('Name is', 'vinod', 'Section is', 'c', 'city is', 'indore')\n"
     ]
    }
   ],
   "source": [
    "class Emp:\n",
    "    def printdetails(self):\n",
    "        return(\"Name is\",self.name,\"Section is\",self.section,\"city is\",self.city)\n",
    "    \n",
    "vinod=Emp()\n",
    "vinod.name=\"vinod\"\n",
    "vinod.section=\"c\" \n",
    "vinod.city=\"indore\" \n",
    "print(vinod.printdetails())  "
   ]
  },
  {
   "cell_type": "code",
   "execution_count": 8,
   "metadata": {},
   "outputs": [
    {
     "name": "stdout",
     "output_type": "stream",
     "text": [
      "in it\n",
      "in it\n"
     ]
    }
   ],
   "source": [
    "class Computer:\n",
    "    def __init__(self):\n",
    "        print('in it')\n",
    "comp1=Computer()\n",
    "comp2=Computer()    \n",
    "\n",
    "\n"
   ]
  },
  {
   "cell_type": "code",
   "execution_count": 9,
   "metadata": {},
   "outputs": [
    {
     "name": "stdout",
     "output_type": "stream",
     "text": [
      "hello, my name is  Vimla\n"
     ]
    }
   ],
   "source": [
    "class Person:\n",
    "    def __init__(self,name):\n",
    "        self.name = name\n",
    "    def sayhi(self):\n",
    "        print(\"hello, my name is \",self.name)\n",
    "    \n",
    "p = Person(\"Vimla\")\n",
    "p.sayhi()\n"
   ]
  },
  {
   "cell_type": "code",
   "execution_count": 11,
   "metadata": {},
   "outputs": [
    {
     "name": "stdout",
     "output_type": "stream",
     "text": [
      "Config is i3 6th gen Vaish\n"
     ]
    }
   ],
   "source": [
    "class Computer:\n",
    "    def __init__(self,cpu,ram):\n",
    "        self.cpu = cpu \n",
    "        self.ram = ram\n",
    "\n",
    "    def config(self):\n",
    "        print(\"Config is\",self.cpu,self.ram)\n",
    "\n",
    "p = Computer(\"i3 6th gen\",\"Vaish\")\n",
    "p.config()\n"
   ]
  },
  {
   "cell_type": "code",
   "execution_count": 17,
   "metadata": {},
   "outputs": [
    {
     "name": "stdout",
     "output_type": "stream",
     "text": [
      "rohan \n",
      " 22\n"
     ]
    }
   ],
   "source": [
    "class computer:\n",
    "    def __init__(self):\n",
    "        self.name=\"rohan\"\n",
    "        self.age=22\n",
    "p = computer() \n",
    "print(p.name,\"\\n\",p.age)       "
   ]
  },
  {
   "cell_type": "code",
   "execution_count": 19,
   "metadata": {},
   "outputs": [
    {
     "name": "stdout",
     "output_type": "stream",
     "text": [
      "varummmmmmmmmmmmmmmm \n",
      " 10\n"
     ]
    }
   ],
   "source": [
    "class computer:\n",
    "    def __init__(self):\n",
    "        self.name=\"varummmmmmmmmmmmmmmm\"\n",
    "        self.age=22\n",
    "    def update(self):\n",
    "        self.age=10\n",
    "\n",
    "p = computer() \n",
    "p.update()\n",
    "print(p.name,\"\\n\",p.age)       "
   ]
  },
  {
   "cell_type": "code",
   "execution_count": 20,
   "metadata": {},
   "outputs": [
    {
     "name": "stdout",
     "output_type": "stream",
     "text": [
      "They are same\n"
     ]
    }
   ],
   "source": [
    "class computer:\n",
    "    def __init__(self):\n",
    "        self.name=\"varummmmmmmmmmmmmmmm\"\n",
    "        self.age=22\n",
    "    def compare (self,c2):\n",
    "        if self.age == c2.age:\n",
    "            return True\n",
    "        else:\n",
    "            return False\n",
    "c1 = computer()\n",
    "c2=computer()\n",
    "\n",
    "if c1.compare(c2):\n",
    "    print(\"They are same\")\n",
    "else:\n",
    "    print(\"They are diffrerent\")\n",
    "\n",
    "    \n"
   ]
  }
 ],
 "metadata": {
  "kernelspec": {
   "display_name": "Python 3",
   "language": "python",
   "name": "python3"
  },
  "language_info": {
   "codemirror_mode": {
    "name": "ipython",
    "version": 3
   },
   "file_extension": ".py",
   "mimetype": "text/x-python",
   "name": "python",
   "nbconvert_exporter": "python",
   "pygments_lexer": "ipython3",
   "version": "3.11.1"
  },
  "orig_nbformat": 4
 },
 "nbformat": 4,
 "nbformat_minor": 2
}
